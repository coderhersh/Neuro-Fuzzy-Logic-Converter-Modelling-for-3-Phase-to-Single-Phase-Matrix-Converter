# Genetic Algorithm

"""
Solving the following equation
f(x) = a + 2b + 3c + 4d - 30

Objective is to minimize the equation. Values of a, b, c, d can be 
between 1 to 30
"""

import math
import numpy as np
import random as rd

# 1. Population
population = np.zeros((6, 4))

for i in range(population.shape[0]):
    for j in range(population.shape[1]):
        population[i, j] = rd.randint(1, 30)


# 2. Fitness Evaluation ( 1/abs(1+obj_fun))
fitness = []

for i in population:
    obj = i[0] + 2*i[1] + 3*i[2] + 4*i[3] - 30
    fit = 1/np.abs(1 + obj)
    fitness.append(fit)
print(fitness)

# 3. Selection Operator
# Roullete Selection
no_of_parent = 4
sum_fitness = sum(fitness)
probability = fitness/sum_fitness

cummulative_probability = []

for i in range(len(probability)):
    s = 0
    for j in range(0, i+1):
        s += probability[j]
    cummulative_probability.append(s)
print("Cummlative Probabilties", cummulative_probability)

# 4. Parent Selection

parent_crossover = np.zeros((4, 4), dtype = np.int32)

for i in range(4):
    r = rd.random()
    for j in range(6):
        if cummulative_probability[j] >= r:
            index = j
            break
    print("Chromosome selected is ", index)
    parent_crossover[i, :] = population[index, :]
print(parent_crossover)